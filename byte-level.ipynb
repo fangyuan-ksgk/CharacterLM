{
 "cells": [
  {
   "cell_type": "code",
   "execution_count": 1,
   "metadata": {},
   "outputs": [],
   "source": [
    "# to construct byte-level base tokenizer\n",
    "from magicab.etoken import TokenTrie \n",
    "from magicab import ETokenizer \n",
    "\n",
    "tok = ETokenizer(mode=\"byte\")\n",
    "\n",
    "byte_vocab = tok.byte_vocab\n",
    "# TokenTrie(byte_vocab=byte_vocab)"
   ]
  },
  {
   "cell_type": "code",
   "execution_count": 2,
   "metadata": {},
   "outputs": [],
   "source": [
    "# Debug on pre-processing functional \n",
    "from data.composio.process_pt_data import process_fineweb_edu, process_dataset, load_from_disk\n",
    "import os\n",
    "dataset_config = ('fineweb-edu', process_fineweb_edu)\n",
    "\n",
    "# ------------------- input ---------------------------\n",
    "datasets_dir = \"data/composio\"\n",
    "dataset_name, processor_fn = dataset_config\n",
    "block_size=512\n",
    "num_proc = 1\n",
    "dataset = load_from_disk(os.path.join(datasets_dir, dataset_name))\n",
    "val_size = 10\n",
    "train_size = len(dataset) - val_size\n",
    "# train_dataset, val_dataset = process_dataset(\n",
    "#     dataset=dataset,\n",
    "#     processor_fn=processor_fn,\n",
    "#     tokenizer=tokenizer,\n",
    "#     block_size=block_size,\n",
    "#     num_proc=num_proc,\n",
    "#     train_size=train_size,\n",
    "#     val_size=val_size,\n",
    "#     desc_prefix=dataset_name\n",
    "# )"
   ]
  },
  {
   "cell_type": "code",
   "execution_count": 6,
   "metadata": {},
   "outputs": [
    {
     "data": {
      "text/plain": [
       "'I am super duper'"
      ]
     },
     "execution_count": 6,
     "metadata": {},
     "output_type": "execute_result"
    }
   ],
   "source": [
    "# tok.encode(\"I am super duper\") # bug \n",
    "\n",
    "from magicab.etoken import encode_bytes\n",
    "self = tok\n",
    "text = \"I am super duper\"\n",
    "\n",
    "# encoding \n",
    "ids = encode_bytes(text, self.special_tokens, self.special2idx, self.byte2idx)\n",
    "ids = tok.encode_id(text)\n",
    "ids = tok.encode(text)\n",
    "\n",
    "# decoding \n",
    "tok.decode(ids)\n"
   ]
  }
 ],
 "metadata": {
  "kernelspec": {
   "display_name": "base",
   "language": "python",
   "name": "python3"
  },
  "language_info": {
   "codemirror_mode": {
    "name": "ipython",
    "version": 3
   },
   "file_extension": ".py",
   "mimetype": "text/x-python",
   "name": "python",
   "nbconvert_exporter": "python",
   "pygments_lexer": "ipython3",
   "version": "3.11.5"
  }
 },
 "nbformat": 4,
 "nbformat_minor": 2
}
