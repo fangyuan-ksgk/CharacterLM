{
 "cells": [
  {
   "cell_type": "code",
   "execution_count": 1,
   "metadata": {},
   "outputs": [],
   "source": [
    "# to construct byte-level base tokenizer\n",
    "from magicab.etoken import TokenTrie \n",
    "from magicab import ETokenizer \n",
    "\n",
    "tok = ETokenizer(mode=\"byte\")\n",
    "\n",
    "byte_vocab = tok.byte_vocab\n",
    "# TokenTrie(byte_vocab=byte_vocab)"
   ]
  },
  {
   "cell_type": "code",
   "execution_count": 2,
   "metadata": {},
   "outputs": [],
   "source": [
    "tok.save(path=\"test.json\")"
   ]
  },
  {
   "cell_type": "code",
   "execution_count": 2,
   "metadata": {},
   "outputs": [],
   "source": [
    "base_path = \"checkpoint/base/tokenizer.json\"\n",
    "tok1 = ETokenizer.load(path=base_path)\n",
    "\n"
   ]
  },
  {
   "cell_type": "code",
   "execution_count": 6,
   "metadata": {},
   "outputs": [
    {
     "data": {
      "text/plain": [
       "'I am super duper'"
      ]
     },
     "execution_count": 6,
     "metadata": {},
     "output_type": "execute_result"
    }
   ],
   "source": [
    "# tok.encode(\"I am super duper\") # bug \n",
    "\n",
    "from magicab.etoken import encode_bytes\n",
    "self = tok\n",
    "text = \"I am super duper\"\n",
    "\n",
    "# encoding \n",
    "ids = encode_bytes(text, self.special_tokens, self.special2idx, self.byte2idx)\n",
    "ids = tok.encode_id(text)\n",
    "ids = tok.encode(text)\n",
    "\n",
    "# decoding \n",
    "tok.decode(ids)\n"
   ]
  }
 ],
 "metadata": {
  "kernelspec": {
   "display_name": "base",
   "language": "python",
   "name": "python3"
  },
  "language_info": {
   "codemirror_mode": {
    "name": "ipython",
    "version": 3
   },
   "file_extension": ".py",
   "mimetype": "text/x-python",
   "name": "python",
   "nbconvert_exporter": "python",
   "pygments_lexer": "ipython3",
   "version": "3.11.5"
  }
 },
 "nbformat": 4,
 "nbformat_minor": 2
}
