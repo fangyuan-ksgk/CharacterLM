{
 "cells": [
  {
   "cell_type": "code",
   "execution_count": 1,
   "metadata": {},
   "outputs": [],
   "source": [
    "# to construct byte-level base tokenizer\n",
    "from magicab.etoken import TokenTrie \n",
    "from magicab import ETokenizer \n",
    "\n",
    "tokenizer = ETokenizer(mode=\"byte\")"
   ]
  },
  {
   "cell_type": "code",
   "execution_count": 2,
   "metadata": {},
   "outputs": [
    {
     "name": "stdout",
     "output_type": "stream",
     "text": [
      "Time for encoding (sequential): 0.11640429496765137 seconds\n",
      "Time for encoding (parallel): 3.719329833984375e-05 seconds\n",
      "Parallel Speed-ups:\n",
      "Sequential / Parallel: 3129.7115384615386\n"
     ]
    }
   ],
   "source": [
    "import time\n",
    "import warnings\n",
    "from nest_asyncio import apply\n",
    "\n",
    "# Suppress both types of warnings - be more aggressive with the filtering\n",
    "warnings.filterwarnings(\"ignore\", category=RuntimeWarning)\n",
    "\n",
    "apply()\n",
    "\n",
    "texts = [\"I am super duper\", \"Hey how is it going?\", \"I am not super duper\"] * 1000\n",
    "\n",
    "start = time.time()\n",
    "tokenizer.encode_with_chunking(texts, mode=\"sequential\")\n",
    "end = time.time()\n",
    "time_sequential = end - start\n",
    "print(f\"Time for encoding (sequential): {time_sequential} seconds\")\n",
    "\n",
    "start = time.time()\n",
    "tokenizer.encode_with_chunking(texts, mode=\"parallel\")\n",
    "end = time.time()\n",
    "time_parallel = end - start\n",
    "print(f\"Time for encoding (parallel): {time_parallel} seconds\")\n",
    "\n",
    "print(\"Parallel Speed-ups:\")\n",
    "print(f\"Sequential / Parallel: {time_sequential / time_parallel}\")\n"
   ]
  },
  {
   "cell_type": "code",
   "execution_count": 14,
   "metadata": {},
   "outputs": [
    {
     "name": "stdout",
     "output_type": "stream",
     "text": [
      "Time taken for sequential: 0.0461881160736084 seconds\n"
     ]
    }
   ],
   "source": [
    "start = time.time()\n",
    "tokenizer.encode_with_chunking(texts, mode=\"sequential\")\n",
    "end = time.time()\n",
    "print(f\"Time taken for sequential: {end - start} seconds\")"
   ]
  },
  {
   "cell_type": "code",
   "execution_count": 10,
   "metadata": {},
   "outputs": [],
   "source": [
    "from magicab.etoken import chunk_text, _encode_chunks\n",
    "\n"
   ]
  },
  {
   "cell_type": "code",
   "execution_count": 9,
   "metadata": {},
   "outputs": [
    {
     "name": "stdout",
     "output_type": "stream",
     "text": [
      "Time taken for sequential: 0.004302263259887695 seconds\n"
     ]
    }
   ],
   "source": []
  },
  {
   "cell_type": "code",
   "execution_count": null,
   "metadata": {},
   "outputs": [],
   "source": []
  },
  {
   "cell_type": "code",
   "execution_count": null,
   "metadata": {},
   "outputs": [
    {
     "name": "stdout",
     "output_type": "stream",
     "text": [
      "Processed fineweb-edu: 190 train, 10 val\n"
     ]
    }
   ],
   "source": [
    "# Debug on pre-processing functional \n",
    "from data.composio.process_pt_data import process_fineweb_edu, process_dataset, load_from_disk\n",
    "import os\n",
    "dataset_config = ('fineweb-edu', process_fineweb_edu)\n",
    "\n",
    "# ------------------- input ---------------------------\n",
    "datasets_dir = \"data/composio\"\n",
    "dataset_name, processor_fn = dataset_config\n",
    "block_size=512\n",
    "num_proc = 1\n",
    "dataset = load_from_disk(os.path.join(datasets_dir, dataset_name))\n",
    "val_size = 10\n",
    "train_size = len(dataset) - val_size\n",
    "train_dataset, val_dataset = process_dataset(\n",
    "    dataset=dataset,\n",
    "    processor_fn=processor_fn,\n",
    "    tokenizer=tokenizer,\n",
    "    block_size=block_size,\n",
    "    num_proc=num_proc,\n",
    "    train_size=train_size,\n",
    "    val_size=val_size,\n",
    "    desc_prefix=dataset_name\n",
    ")"
   ]
  },
  {
   "cell_type": "code",
   "execution_count": 3,
   "metadata": {},
   "outputs": [],
   "source": [
    "# test with 'list-of-list' ids save & load (with padding)\n",
    "\n",
    "all_train_ids = [[1]*600, [2]*800, [3]*100]\n",
    "\n",
    "# 1. save to .bin \n",
    "import torch \n",
    "train_path = \"test.bin\"\n",
    "torch.save(all_train_ids, train_path)\n",
    "\n",
    "# 2. get_batch (load from .bin, in-sample slice with padding)\n"
   ]
  },
  {
   "cell_type": "code",
   "execution_count": 61,
   "metadata": {},
   "outputs": [],
   "source": [
    "# Example usage\n",
    "from magicab.data import get_batch_slice, save_sequences_for_memmap\n",
    "\n",
    "text_list = [\"I am super duper\", \"Hey how is it going?\", \"I am not super duper\"]\n",
    "all_train_ids = [tokenizer.encode(text) for text in text_list]\n",
    "\n",
    "save_sequences_for_memmap(all_train_ids, \"optimized_data.bin\")\n",
    "\n",
    "random_slice = get_batch_slice(\"optimized_data.bin\", pad_token_id=tokenizer.pad_token_id, block_size=512)"
   ]
  },
  {
   "cell_type": "code",
   "execution_count": 60,
   "metadata": {},
   "outputs": [
    {
     "name": "stdout",
     "output_type": "stream",
     "text": [
      "Input:  am not s\n",
      "Target:  m not su\n"
     ]
    }
   ],
   "source": [
    "random_slice = get_batch_slice(\"optimized_data.bin\", pad_token_id=tokenizer.pad_token_id, block_size=8)\n",
    "x, y = random_slice\n",
    "\n",
    "input_ids = [int(i) for i in list(x.cpu().numpy())]\n",
    "target_ids = [int(i) for i in list(y.cpu().numpy())]\n",
    "\n",
    "input = tokenizer.decode(input_ids)\n",
    "target = tokenizer.decode(target_ids)\n",
    "\n",
    "print(\"Input: \", input)\n",
    "print(\"Target: \", target)"
   ]
  },
  {
   "cell_type": "code",
   "execution_count": 29,
   "metadata": {},
   "outputs": [
    {
     "data": {
      "text/plain": [
       "'I am super duper'"
      ]
     },
     "execution_count": 29,
     "metadata": {},
     "output_type": "execute_result"
    }
   ],
   "source": [
    "# tok.encode(\"I am super duper\") # bug \n",
    "\n",
    "from magicab.etoken import encode_bytes\n",
    "self = tokenizer\n",
    "text = \"I am super duper\"\n",
    "\n",
    "# encoding \n",
    "ids = encode_bytes(text, self.special_tokens, self.special2idx, self.byte2idx)\n",
    "ids = tokenizer.encode_id(text)\n",
    "ids = tokenizer.encode(text)\n",
    "\n",
    "# decoding \n",
    "tokenizer.decode(ids)"
   ]
  },
  {
   "cell_type": "code",
   "execution_count": null,
   "metadata": {},
   "outputs": [],
   "source": [
    "# parallel encoding across chunks (async)\n",
    "from magicab.etoken import chunk_text, _encode_chunks\n",
    "chunk_size = 1024 \n",
    "\n",
    "ids_list = [] \n",
    "for t in text: \n",
    "    chunks = chunk_text(t, chunk_size)\n",
    "    ids = _encode_chunks(chunks, self, chunk_size)\n",
    "    ids_list.append(ids)"
   ]
  },
  {
   "cell_type": "code",
   "execution_count": 67,
   "metadata": {},
   "outputs": [],
   "source": [
    "# async encoding (parallel processing)\n",
    "\n",
    "from magicab.etoken import chunk_text, _encode_chunks\n",
    "import asyncio\n",
    "from concurrent.futures import ThreadPoolExecutor\n",
    "\n",
    "texts = [\"I am super duper\", \"Hey how is it going?\", \"I am not super duper\"]\n",
    "chunk_size = 1024 \n",
    "\n",
    "async def encode_text(t, tokenizer, chunk_size):\n",
    "    chunks = chunk_text(t, chunk_size)\n",
    "    # Run the encoding in a thread pool since it's likely CPU-bound\n",
    "    loop = asyncio.get_event_loop()\n",
    "    with ThreadPoolExecutor() as pool:\n",
    "        return await loop.run_in_executor(pool, lambda: _encode_chunks(chunks, tokenizer, chunk_size))\n",
    "\n",
    "async def encode_all_texts(texts, tokenizer, chunk_size):\n",
    "    tasks = [encode_text(t, tokenizer, chunk_size) for t in texts]\n",
    "    return await asyncio.gather(*tasks)\n",
    "\n",
    "# Run the async function\n",
    "import nest_asyncio\n",
    "nest_asyncio.apply()\n",
    "\n",
    "ids_list = asyncio.run(encode_all_texts(texts, self, chunk_size))"
   ]
  },
  {
   "cell_type": "code",
   "execution_count": null,
   "metadata": {},
   "outputs": [],
   "source": []
  }
 ],
 "metadata": {
  "kernelspec": {
   "display_name": "base",
   "language": "python",
   "name": "python3"
  },
  "language_info": {
   "codemirror_mode": {
    "name": "ipython",
    "version": 3
   },
   "file_extension": ".py",
   "mimetype": "text/x-python",
   "name": "python",
   "nbconvert_exporter": "python",
   "pygments_lexer": "ipython3",
   "version": "3.11.5"
  }
 },
 "nbformat": 4,
 "nbformat_minor": 2
}
