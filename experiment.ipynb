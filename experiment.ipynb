{
 "cells": [
  {
   "cell_type": "code",
   "execution_count": 1,
   "metadata": {},
   "outputs": [
    {
     "name": "stderr",
     "output_type": "stream",
     "text": [
      "/var/folders/nn/nbsb8w3570zfgs23h2s0cdzm0000gn/T/ipykernel_18260/1889586053.py:9: FutureWarning: You are using `torch.load` with `weights_only=False` (the current default value), which uses the default pickle module implicitly. It is possible to construct malicious pickle data which will execute arbitrary code during unpickling (See https://github.com/pytorch/pytorch/blob/main/SECURITY.md#untrusted-models for more details). In a future release, the default value for `weights_only` will be flipped to `True`. This limits the functions that could be executed during unpickling. Arbitrary objects will no longer be allowed to be loaded via this mode unless they are explicitly allowlisted by the user via `torch.serialization.add_safe_globals`. We recommend you start setting `weights_only=True` for any use case where you don't have full control of the loaded file. Please open an issue on GitHub for any issues related to this experimental feature.\n",
      "  checkpoint = torch.load(ckpt_path, map_location=device)\n"
     ]
    },
    {
     "name": "stdout",
     "output_type": "stream",
     "text": [
      "number of parameters: 10.66M\n"
     ]
    }
   ],
   "source": [
    "import os, torch, pickle \n",
    "from model import GPT, GPTConfig\n",
    "from magicab import ETokenizer \n",
    "\n",
    "device = \"mps\" if not torch.cuda.is_available() else \"cuda\"\n",
    "out_dir = \"checkpoint/base\"\n",
    "# out_dir = \"checkpoint/run3\"\n",
    "ckpt_path = os.path.join(out_dir, 'ckpt.pt')\n",
    "checkpoint = torch.load(ckpt_path, map_location=device)\n",
    "\n",
    "# Load model \n",
    "model = GPT.load_model(checkpoint, device)\n",
    "model = model.to(device)\n",
    "model.eval()\n",
    "\n",
    "# Load tokenizer \n",
    "# (1). base tokenizer\n",
    "meta_path = os.path.join('data', checkpoint['config']['dataset'], 'meta.pkl')\n",
    "with open(meta_path, 'rb') as f:\n",
    "    meta = pickle.load(f)\n",
    "tok = ETokenizer(char_vocab=meta['itos'])\n",
    "\n",
    "# (2). input tokenizer\n",
    "# if 'tokenizer_path' in checkpoint: \n",
    "    # tok = ETokenizer.load(checkpoint[\"tokenizer_path\"])"
   ]
  },
  {
   "cell_type": "code",
   "execution_count": 2,
   "metadata": {},
   "outputs": [
    {
     "data": {
      "text/plain": [
       "39986528256"
      ]
     },
     "execution_count": 2,
     "metadata": {},
     "output_type": "execute_result"
    }
   ],
   "source": [
    "model.estimate_flops()"
   ]
  },
  {
   "cell_type": "markdown",
   "metadata": {},
   "source": [
    "Tokenizer Encoding speed optimisation "
   ]
  },
  {
   "cell_type": "code",
   "execution_count": 2,
   "metadata": {},
   "outputs": [
    {
     "data": {
      "image/png": "[encoded data removed]",
      "text/plain": [
       "<Figure size 1800x150 with 1 Axes>"
      ]
     },
     "metadata": {},
     "output_type": "display_data"
    }
   ],
   "source": [
    "from magicab import Magicab\n",
    "\n",
    "magicab = Magicab(model, \n",
    "                  tokenizer=tok, # input tokenizer\n",
    "                  checkpoint_dir=\"checkpoint/base\", spike_perplexity_threshold=5.0, group_perplexity_threshold=10.5)\n",
    "\n",
    "magicab.group_quantile_threshold = 1.0\n",
    "\n",
    "txt1 = \"DeepSeek's architectural innovations MoE, MLA, MTP, and FP3Quantization focus on optimizing largescale training and deployment and serving efficiency.\"\n",
    "txt2 = \"File Search augments the Assistant with knowledge from outside its model, such as proprietary product information or documents provided by your users.\"\n",
    "texts = [txt1, txt2]\n",
    "texts = [\"Do you understand?\"]\n",
    "\n",
    "# (a). Batch Visualizer\n",
    "char_perplexity = magicab.visualize_changes(texts) # issue: likely empty remove token groups leading to issue in map_to_char functional"
   ]
  },
  {
   "cell_type": "code",
   "execution_count": 2,
   "metadata": {},
   "outputs": [
    {
     "data": {
      "text/plain": [
       "'<USER> hi<|endoftext|><ASSISTANT> hello<|endoftext|>'"
      ]
     },
     "execution_count": 2,
     "metadata": {},
     "output_type": "execute_result"
    }
   ],
   "source": [
    "# Supervised-Fine-Tuning on GPT model \n",
    "\n",
    "# An example of SFT data \n",
    "\n",
    "# Apply Chat Template with ETokenizer\n",
    "conv_data = [{\"user\": \"hi\"}]\n",
    "tok.apply_chat_template(conv_data) # backward-crop for inference-time chat template application \n",
    "\n",
    "conv_data = [{\"user\": \"hi\"}, {\"assistant\": \"hello\"}]\n",
    "tok.prepare_sft_data(conv_data) # sft data processing require context length handling and randomization\n",
    "\n",
    "# Build SFT trainer (basically apply the loss_mask)"
   ]
  },
  {
   "cell_type": "code",
   "execution_count": null,
   "metadata": {},
   "outputs": [],
   "source": [
    "from data.alpaca.util import prepare_alpaca_data, get_batch\n",
    "\n",
    "# Alpaca data preparation with tokenizer\n",
    "prepare_alpaca_data(tok, block_size=512)\n",
    "\n",
    "# Batch data loader with Alpaca \n",
    "input_ids, target_ids, loss_mask = get_batch(10, 'train', 'mps')"
   ]
  },
  {
   "cell_type": "code",
   "execution_count": null,
   "metadata": {},
   "outputs": [],
   "source": []
  }
 ],
 "metadata": {
  "kernelspec": {
   "display_name": "base",
   "language": "python",
   "name": "python3"
  },
  "language_info": {
   "codemirror_mode": {
    "name": "ipython",
    "version": 3
   },
   "file_extension": ".py",
   "mimetype": "text/x-python",
   "name": "python",
   "nbconvert_exporter": "python",
   "pygments_lexer": "ipython3",
   "version": "3.11.5"
  }
 },
 "nbformat": 4,
 "nbformat_minor": 2
}
