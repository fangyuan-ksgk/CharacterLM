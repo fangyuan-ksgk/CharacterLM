{
 "cells": [
  {
   "cell_type": "code",
   "execution_count": 3,
   "metadata": {},
   "outputs": [],
   "source": [
    "# learn on B-Spline code \n",
    "import torch \n",
    "\n",
    "control_points = torch.tensor([[0.,0.,0.], [0.,1.,0.], [1.,1.,0.], [1.,0.,0.]])\n",
    "num_times = 100\n",
    "device = \"mps\"\n",
    "times = torch.arange(num_times, device = device, dtype = torch.float)\n",
    "\n",
    "# lens: Tensor "
   ]
  },
  {
   "cell_type": "code",
   "execution_count": 33,
   "metadata": {},
   "outputs": [],
   "source": [
    "from einops import rearrange, repeat, pack, unpack\n",
    "\n",
    "# arange list of time intervals\n",
    "batch = 4\n",
    "\n",
    "# arange time intervals, add batch dimension\n",
    "times = torch.linspace(0, 1, num_times, device=device, dtype = torch.float)\n",
    "times = repeat(times, \"t -> b t\", b = batch) # add batch dimension \n",
    "\n",
    "powers = torch.arange(4, device = device).flip(dims = (0,))\n",
    "\n",
    "times = rearrange(times, \"... -> ... 1\") ** powers\n",
    "\n",
    "matrix = torch.tensor([\n",
    "            [-1,  3, -3,  1],\n",
    "            [ 3, -6,  3,  0],\n",
    "            [-3,  0,  3,  0],\n",
    "            [ 1,  4,  1,  0]\n",
    "        ], device=device, dtype=torch.float) / 6\n",
    "\n",
    "control_points = torch.tensor([[0.,0.,0.], [0.,1.,0.], [1.,1.,0.], [1.,0.,0.]],\n",
    "                              device=device, dtype=torch.float)\n",
    "\n"
   ]
  },
  {
   "cell_type": "code",
   "execution_count": 34,
   "metadata": {},
   "outputs": [
    {
     "data": {
      "text/plain": [
       "(torch.Size([4, 100, 4]), torch.Size([4, 4]), torch.Size([4, 3]))"
      ]
     },
     "execution_count": 34,
     "metadata": {},
     "output_type": "execute_result"
    }
   ],
   "source": [
    "times.shape, matrix.shape, control_points.shape"
   ]
  },
  {
   "cell_type": "code",
   "execution_count": 1,
   "metadata": {},
   "outputs": [
    {
     "name": "stdout",
     "output_type": "stream",
     "text": [
      "number of parameters: 30.79M\n"
     ]
    }
   ],
   "source": [
    "from spline_model import SplineGPT, GPTConfig \n",
    "\n",
    "config = GPTConfig(block_size=256, vocab_size=92, n_layer=4, n_head=4, n_embd=768, \n",
    "                   dropout=0.0, bias=True)\n",
    "\n",
    "model = SplineGPT(config)"
   ]
  },
  {
   "cell_type": "code",
   "execution_count": 1,
   "metadata": {},
   "outputs": [
    {
     "name": "stdout",
     "output_type": "stream",
     "text": [
      "Total number of parameters: 0.87M\n",
      "Control predictor number of parameters: 0.07M\n",
      "Input shape: torch.Size([4, 16])\n",
      "Output logits shape: torch.Size([4, 16, 100])\n",
      "Loss value: 4.236752510070801\n"
     ]
    }
   ],
   "source": [
    "from spline_model import SplineGPT, GPTConfig \n",
    "import torch \n",
    "\n",
    "# Setup example input\n",
    "batch_size = 4\n",
    "seq_len = 16\n",
    "vocab_size = 100\n",
    "device = \"mps\"\n",
    "\n",
    "# Create random input tokens\n",
    "input_tokens = torch.randint(0, vocab_size, (batch_size, seq_len), device=device)\n",
    "\n",
    "# Create model config\n",
    "config = GPTConfig(\n",
    "    block_size=256,        # maximum sequence length\n",
    "    vocab_size=vocab_size, # vocabulary size\n",
    "    n_layer=4,            # number of transformer layers\n",
    "    n_head=4,             # number of attention heads\n",
    "    n_embd=128,          # embedding dimension\n",
    "    dropout=0.1,\n",
    "    bias=True\n",
    ")\n",
    "\n",
    "# Initialize model\n",
    "model = SplineGPT(config).to(device)\n",
    "\n",
    "# Forward pass\n",
    "logits, loss = model(input_tokens, targets=input_tokens)\n",
    "\n",
    "print(f\"Input shape: {input_tokens.shape}\")\n",
    "print(f\"Output logits shape: {logits.shape}\")\n",
    "print(f\"Loss value: {loss.item()}\")"
   ]
  },
  {
   "cell_type": "code",
   "execution_count": null,
   "metadata": {},
   "outputs": [],
   "source": []
  },
  {
   "cell_type": "code",
   "execution_count": null,
   "metadata": {},
   "outputs": [],
   "source": []
  }
 ],
 "metadata": {
  "kernelspec": {
   "display_name": "base",
   "language": "python",
   "name": "python3"
  },
  "language_info": {
   "codemirror_mode": {
    "name": "ipython",
    "version": 3
   },
   "file_extension": ".py",
   "mimetype": "text/x-python",
   "name": "python",
   "nbconvert_exporter": "python",
   "pygments_lexer": "ipython3",
   "version": "3.11.5"
  }
 },
 "nbformat": 4,
 "nbformat_minor": 2
}
