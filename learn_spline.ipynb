{
 "cells": [
  {
   "cell_type": "code",
   "execution_count": 1,
   "metadata": {},
   "outputs": [
    {
     "name": "stdout",
     "output_type": "stream",
     "text": [
      "number of parameters: 30.79M\n"
     ]
    }
   ],
   "source": [
    "from spline_model import SplineGPT, GPTConfig \n",
    "\n",
    "config = GPTConfig(block_size=256, vocab_size=92, n_layer=4, n_head=4, n_embd=768, \n",
    "                   dropout=0.0, bias=True)\n",
    "\n",
    "model = SplineGPT(config)"
   ]
  },
  {
   "cell_type": "code",
   "execution_count": 2,
   "metadata": {},
   "outputs": [
    {
     "name": "stdout",
     "output_type": "stream",
     "text": [
      "Total number of parameters: 0.87M\n",
      "Control predictor number of parameters: 0.07M\n",
      "Input shape: torch.Size([4, 16])\n",
      "Output logits shape: torch.Size([4, 16, 100])\n",
      "Loss value: 4.209731101989746\n"
     ]
    }
   ],
   "source": [
    "from spline_model import SplineGPT, SplineGPTConfig\n",
    "import torch \n",
    "\n",
    "# Setup example input\n",
    "batch_size = 4\n",
    "seq_len = 16\n",
    "vocab_size = 100\n",
    "device = \"mps\"\n",
    "\n",
    "# Create random input tokens\n",
    "input_tokens = torch.randint(0, vocab_size, (batch_size, seq_len), device=device)\n",
    "\n",
    "# Create model config\n",
    "config = SplineGPTConfig(\n",
    "    block_size=256,        # maximum sequence length\n",
    "    vocab_size=vocab_size, # vocabulary size\n",
    "    n_layer=4,            # number of transformer layers\n",
    "    n_head=4,             # number of attention heads\n",
    "    n_embd=128,          # embedding dimension\n",
    "    dropout=0.1,\n",
    "    bias=True,\n",
    "    spline_control_layers=None\n",
    ")\n",
    "\n",
    "# Initialize model\n",
    "model = SplineGPT(config).to(device)\n",
    "\n",
    "# Forward pass\n",
    "logits, loss = model(input_tokens, targets=input_tokens)\n",
    "\n",
    "print(f\"Input shape: {input_tokens.shape}\")\n",
    "print(f\"Output logits shape: {logits.shape}\")\n",
    "print(f\"Loss value: {loss.item()}\")"
   ]
  },
  {
   "cell_type": "code",
   "execution_count": 3,
   "metadata": {},
   "outputs": [
    {
     "data": {
      "text/plain": [
       "tensor([[51, 39, 51, 67, 91, 15, 90, 49, 89, 62, 78,  6, 13, 25, 39, 50, 68, 27,\n",
       "         51, 50, 52, 13, 68, 72, 90, 61],\n",
       "        [35, 81, 52, 82,  7, 74, 60,  5, 87, 20, 87, 44, 27, 68, 29, 76, 84, 32,\n",
       "         38, 71, 48, 51, 26, 92,  0, 80],\n",
       "        [49,  6, 90, 27, 48, 40, 50, 30, 46, 75, 68, 73, 11,  6, 72, 66, 76, 26,\n",
       "         58, 19, 27, 33, 16, 58, 18,  9],\n",
       "        [17, 65,  7, 14, 38, 23, 45, 80, 17, 18, 69, 29, 52, 68, 54, 59, 81, 88,\n",
       "         25, 11, 44, 23, 95, 62, 13, 23]], device='mps:0')"
      ]
     },
     "execution_count": 3,
     "metadata": {},
     "output_type": "execute_result"
    }
   ],
   "source": [
    "model.generate(input_tokens, 10)"
   ]
  },
  {
   "cell_type": "code",
   "execution_count": 3,
   "metadata": {},
   "outputs": [],
   "source": [
    "# save and load checkpoint \n",
    "# 1. save checkpoint \n",
    "torch.save({\n",
    "    'model_state_dict': model.state_dict(),\n",
    "    'config': config,\n",
    "}, 'spline_model_checkpoint.pt')"
   ]
  },
  {
   "cell_type": "code",
   "execution_count": 4,
   "metadata": {},
   "outputs": [
    {
     "name": "stdout",
     "output_type": "stream",
     "text": [
      "Total number of parameters: 0.87M\n",
      "Control predictor number of parameters: 0.07M\n"
     ]
    },
    {
     "name": "stderr",
     "output_type": "stream",
     "text": [
      "/var/folders/nn/nbsb8w3570zfgs23h2s0cdzm0000gn/T/ipykernel_16568/1071034466.py:1: FutureWarning: You are using `torch.load` with `weights_only=False` (the current default value), which uses the default pickle module implicitly. It is possible to construct malicious pickle data which will execute arbitrary code during unpickling (See https://github.com/pytorch/pytorch/blob/main/SECURITY.md#untrusted-models for more details). In a future release, the default value for `weights_only` will be flipped to `True`. This limits the functions that could be executed during unpickling. Arbitrary objects will no longer be allowed to be loaded via this mode unless they are explicitly allowlisted by the user via `torch.serialization.add_safe_globals`. We recommend you start setting `weights_only=True` for any use case where you don't have full control of the loaded file. Please open an issue on GitHub for any issues related to this experimental feature.\n",
      "  checkpoint = torch.load('spline_model_checkpoint.pt')\n"
     ]
    },
    {
     "data": {
      "text/plain": [
       "<All keys matched successfully>"
      ]
     },
     "execution_count": 4,
     "metadata": {},
     "output_type": "execute_result"
    }
   ],
   "source": [
    "checkpoint = torch.load('spline_model_checkpoint.pt')\n",
    "loaded_config = checkpoint['config']\n",
    "loaded_model = SplineGPT(loaded_config).to(device)\n",
    "loaded_model.load_state_dict(checkpoint['model_state_dict'])"
   ]
  },
  {
   "cell_type": "code",
   "execution_count": null,
   "metadata": {},
   "outputs": [],
   "source": []
  }
 ],
 "metadata": {
  "kernelspec": {
   "display_name": "base",
   "language": "python",
   "name": "python3"
  },
  "language_info": {
   "codemirror_mode": {
    "name": "ipython",
    "version": 3
   },
   "file_extension": ".py",
   "mimetype": "text/x-python",
   "name": "python",
   "nbconvert_exporter": "python",
   "pygments_lexer": "ipython3",
   "version": "3.11.5"
  }
 },
 "nbformat": 4,
 "nbformat_minor": 2
}
